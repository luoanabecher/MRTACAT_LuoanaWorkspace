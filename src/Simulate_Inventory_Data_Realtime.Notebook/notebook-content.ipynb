{
 "cells": [
  {
   "cell_type": "code",
   "execution_count": 4,
   "id": "0bbfaf64-f267-4c5f-82c6-ae0e173d89d4",
   "metadata": {
    "cellStatus": "{\"Mohammad Zubair\":{\"session_start_time\":null,\"execution_start_time\":\"2025-06-25T15:13:45.5630212Z\",\"execution_finish_time\":\"2025-06-25T15:13:48.7000975Z\",\"normalized_state\":\"finished\"}}",
    "jupyter": {
     "outputs_hidden": true
    },
    "microsoft": {
     "language": "python",
     "language_group": "jupyter_python"
    }
   },
   "outputs": [],
   "source": [
    "!pip install azure-eventhub"
   ]
  },
  {
   "cell_type": "code",
   "execution_count": 5,
   "id": "c8fb5a4a-3b61-41bd-afd2-4146958523fb",
   "metadata": {
    "cellStatus": "{\"Mohammad Zubair\":{\"session_start_time\":null,\"execution_start_time\":\"2025-06-25T15:13:48.7013156Z\",\"execution_finish_time\":\"2025-06-25T15:13:49.0418373Z\",\"normalized_state\":\"finished\"}}",
    "microsoft": {
     "language": "python",
     "language_group": "jupyter_python"
    }
   },
   "outputs": [],
   "source": [
    "import pandas as pd\n",
    "import random\n",
    "from datetime import datetime\n",
    " \n",
    "# Step 1: Define product types and unique product names\n",
    "product_types = [\"Footwear\", \"Headgear\", \"BaseLayer\"]\n",
    " \n",
    "product_type_mapping = {\n",
    "    \"Footwear\": [\n",
    "        \"TrailRunner\", \"FlexShoe\", \"HeatGear\", \"ProTrainer\", \"WinterBoots\",\n",
    "        \"ActiveCap\", \"UrbanFit\", \"SprintVest\", \"ThermalShirt\", \"AlpineHelmet\"\n",
    "    ],\n",
    "    \"Headgear\": [\n",
    "        \"ActiveCap\", \"ThermalShirt\", \"AlpineHelmet\", \"UrbanFit\", \"TrailRunner\",\n",
    "        \"HeatGear\", \"SprintVest\", \"FlexShoe\", \"WinterBoots\"\n",
    "    ],\n",
    "    \"BaseLayer\": [\n",
    "        \"SprintVest\", \"ThermalShirt\", \"HeatGear\", \"ActiveCap\", \"UrbanFit\",\n",
    "        \"AlpineHelmet\", \"FlexShoe\", \"WinterBoots\", \"TrailRunner\"\n",
    "    ]\n",
    "}\n",
    " \n",
    "# Get all unique product names\n",
    "product_names = set()\n",
    "for names in product_type_mapping.values():\n",
    "    product_names.update(names)\n",
    " \n",
    "# Step 2: All (productName, productType) combinations\n",
    "all_combinations = [(name, ptype) for name in product_names for ptype in product_types]\n",
    " \n",
    "# Step 3: Pad to 89 if needed\n",
    "if len(all_combinations) < 89:\n",
    "    extended_combinations = all_combinations + random.choices(all_combinations, k=89 - len(all_combinations))\n",
    "else:\n",
    "    extended_combinations = all_combinations\n",
    " \n",
    "random.shuffle(extended_combinations)\n",
    "selected_combinations = extended_combinations[:89]\n",
    " \n",
    "# Step 4: Generate inventory\n",
    "def generate_inventory_and_status():\n",
    "    inv = random.randint(0, 100)\n",
    "    if inv == 0:\n",
    "        return inv, \"Out of Stock\"\n",
    "    elif inv <= 15:\n",
    "        return inv, \"Low Stock\"\n",
    "    elif inv <= 50:\n",
    "        return inv, \"Medium Stock\"\n",
    "    else:\n",
    "        return inv, \"In Stock\"\n",
    " \n",
    "# Step 5: Generate records\n",
    "records = []\n",
    "material_counter = 1\n",
    " \n",
    "for i, (product_name, product_type) in enumerate(selected_combinations):\n",
    "    product_id = f\"P{str(i).zfill(5)}\"\n",
    " \n",
    "    # Assign same materialId for every 3 records\n",
    "    if i % 3 == 0:\n",
    "        current_material_id = f\"M{str(material_counter).zfill(5)}\"\n",
    "        material_counter += 1\n",
    " \n",
    "    design_id = f\"Design_{random.randint(1000, 9999)}\"\n",
    "    inventory_sku, stock_status = generate_inventory_and_status()\n",
    " \n",
    "    records.append({\n",
    "        \"productId\": product_id,\n",
    "        \"productName\": product_name,\n",
    "        \"productType\": product_type,\n",
    "        \"designId\": design_id,\n",
    "        \"materialId\": current_material_id,\n",
    "        \"inventorySKU\": inventory_sku,\n",
    "        \"stockStatus\": stock_status\n",
    "    })\n",
    " \n",
    "# Step 6: Create and display DataFrame\n",
    "df_apparel = pd.DataFrame(records)\n",
    "display(df_apparel)\n",
    " \n",
    "# Optional: Write to Spark table\n",
    "# df_spark = spark.createDataFrame(df_apparel)\n",
    "# df_spark.write.mode(\"append\").saveAsTable(\"apparel_product_data\")"
   ]
  },
  {
   "cell_type": "code",
   "execution_count": null,
   "id": "5a29f86e-0243-4ef1-932a-781686f2e7ee",
   "metadata": {
    "cellStatus": "{\"Mohammad Zubair\":{\"session_start_time\":null,\"execution_start_time\":\"2025-06-25T15:13:49.0430413Z\",\"execution_finish_time\":\"2025-06-25T15:13:49.8147514Z\",\"normalized_state\":\"finished\"}}",
    "microsoft": {
     "language": "python",
     "language_group": "jupyter_python"
    }
   },
   "outputs": [],
   "source": [
    "from azure.eventhub import EventHubProducerClient, EventData\n",
    "\n",
    "# Event Hub configuration\n",
    "CONNECTION_STR = \"\"\n",
    "\n",
    "EVENT_HUB_NAME = \"es_921a7307-7c59-44ea-9840-892268cce061\"\n",
    "\n",
    "producer = EventHubProducerClient.from_connection_string(conn_str=CONNECTION_STR, eventhub_name=EVENT_HUB_NAME)\n",
    "\n",
    "# Start with a new batch\n",
    "batch = producer.create_batch()\n",
    "\n",
    "# Send records from the DataFrame\n",
    "for _, row in df_apparel.iterrows(): \n",
    "    event_json = row.to_json()\n",
    "    try:\n",
    "        batch.add(EventData(event_json))\n",
    "    except ValueError:\n",
    "        # Batch full → send and start a new one\n",
    "        producer.send_batch(batch)\n",
    "        batch = producer.create_batch()\n",
    "        batch.add(EventData(event_json))\n",
    "\n",
    "# Send remaining records\n",
    "producer.send_batch(batch)\n",
    "producer.close()\n",
    "\n",
    "print(\"✅ All events sent to Eventstream.\")\n"
   ]
  }
 ],
 "metadata": {
  "dependencies": {},
  "kernel_info": {
   "jupyter_kernel_name": "python3.11",
   "name": "jupyter"
  },
  "kernelspec": {
   "display_name": "synapse_pyspark",
   "name": "synapse_pyspark"
  },
  "language_info": {
   "name": "python"
  },
  "microsoft": {
   "language": "python",
   "language_group": "jupyter_python",
   "ms_spell_check": {
    "ms_spell_check_language": "en"
   }
  },
  "nteract": {
   "version": "nteract-front-end@1.0.0"
  },
  "spark_compute": {
   "compute_id": "/trident/default",
   "session_options": {
    "conf": {
     "spark.synapse.nbs.session.timeout": "1200000"
    }
   }
  }
 },
 "nbformat": 4,
 "nbformat_minor": 5
}
